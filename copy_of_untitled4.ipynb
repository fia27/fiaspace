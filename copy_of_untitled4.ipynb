{
  "nbformat": 4,
  "nbformat_minor": 0,
  "metadata": {
    "colab": {
      "provenance": [],
      "authorship_tag": "ABX9TyOvZiLItLmBh3dB9kkInNGJ",
      "include_colab_link": true
    },
    "kernelspec": {
      "name": "python3",
      "display_name": "Python 3"
    },
    "language_info": {
      "name": "python"
    }
  },
  "cells": [
    {
      "cell_type": "markdown",
      "metadata": {
        "id": "view-in-github",
        "colab_type": "text"
      },
      "source": [
        "<a href=\"https://colab.research.google.com/github/fia27/fiaspace/blob/master/copy_of_untitled4.ipynb\" target=\"_parent\"><img src=\"https://colab.research.google.com/assets/colab-badge.svg\" alt=\"Open In Colab\"/></a>"
      ]
    },
    {
      "cell_type": "code",
      "execution_count": null,
      "metadata": {
        "id": "cUfnmohpDVlr"
      },
      "outputs": [],
      "source": [
        "# A.1 installing package\n",
        "!pip install pandas\n",
        "!pip install pandasql\n",
        "!pip install --upgrade 'sqlalchemy <2.0'\n",
        "!pip install plotly\n",
        "#!pip install dash\n",
        "!pip install jupyter-dash"
      ]
    },
    {
      "cell_type": "code",
      "source": [
        "# Library data manipulation\n",
        "import pandas as pd\n",
        "import pandasql as ps\n",
        "\n",
        "# Library Data Visualization\n",
        "import plotly.express as px\n",
        "import plotly.graph_objects as go\n",
        "import matplotlib.pyplot as plt\n",
        "import seaborn as sns\n",
        "\n",
        "# Library Dashboarding\n",
        "from jupyter_dash import JupyterDash\n",
        "from dash import html, dcc, Input, Output"
      ],
      "metadata": {
        "id": "Ljv2PnUGENAz"
      },
      "execution_count": 3,
      "outputs": []
    },
    {
      "cell_type": "code",
      "source": [
        "!pip install -U -q PyDrive\n",
        " \n",
        "from pydrive.auth import GoogleAuth\n",
        "from pydrive.drive import GoogleDrive\n",
        "from google.colab import auth\n",
        "from oauth2client.client import GoogleCredentials\n",
        " \n",
        " \n",
        "# Authenticate and create the PyDrive client.\n",
        "auth.authenticate_user()\n",
        "gauth = GoogleAuth()\n",
        "gauth.credentials = GoogleCredentials.get_application_default()\n",
        "drive = GoogleDrive(gauth)"
      ],
      "metadata": {
        "id": "P_TXnOFnIDHy"
      },
      "execution_count": 4,
      "outputs": []
    },
    {
      "cell_type": "code",
      "source": [
        "csv_url = 'https://raw.githubusercontent.com/username/repository/master/filename.csv'"
      ],
      "metadata": {
        "id": "QOeg1SLAGkx2"
      },
      "execution_count": null,
      "outputs": []
    },
    {
      "cell_type": "code",
      "source": [
        "link = 'https://drive.google.com/file/d/1T__tPiZpQYZgyCzSMEVSlEtRdMmcdzZ9/view?usp=drive_link'\n",
        " \n",
        "# to get the id part of the file\n",
        "id = link.split(\"/\")[-2]\n",
        " \n",
        "downloaded = drive.CreateFile({'id':id})\n",
        "downloaded.GetContentFile('DQLab_listings(22Sep2022) (1).csv') \n",
        " \n",
        "datalist = pd.read_csv('DQLab_listings(22Sep2022) (1).csv')"
      ],
      "metadata": {
        "id": "rB_JrdTwHZCJ"
      },
      "execution_count": 5,
      "outputs": []
    },
    {
      "cell_type": "code",
      "source": [
        "link2 = 'https://drive.google.com/file/d/18qlVrm4HO5AX-_yZdj7M9Nshe4qltWDz/view?usp=drive_link'\n",
        "id = link2.split(\"/\")[-2]\n",
        "\n",
        "downloaded = drive.CreateFile({'id':id})\n",
        "downloaded.GetContentFile('DQLab_reviews(22Sep2022).csv')\n",
        " \n",
        "datarev = pd.read_csv('DQLab_reviews(22Sep2022).csv') "
      ],
      "metadata": {
        "id": "NzKPqkTtMFpl"
      },
      "execution_count": 6,
      "outputs": []
    },
    {
      "cell_type": "code",
      "source": [
        "link3 = 'https://drive.google.com/file/d/1PK4sJzbTbERo3SzEHhXVOgdVoQWWfRhh/view?usp=drive_link'\n",
        "id = link3.split(\"/\")[-2]\n",
        "\n",
        "downloaded = drive.CreateFile({'id':id})\n",
        "downloaded.GetContentFile('DQLab_nieghbourhood(22Sep2022).csv')\n",
        " \n",
        "datanieg = pd.read_csv('DQLab_nieghbourhood(22Sep2022).csv') "
      ],
      "metadata": {
        "id": "AaQS0JuMOfkz"
      },
      "execution_count": 7,
      "outputs": []
    },
    {
      "cell_type": "code",
      "source": [
        "datalist.join()"
      ],
      "metadata": {
        "colab": {
          "base_uri": "https://localhost:8080/",
          "height": 372
        },
        "id": "EUZio6oyXPGo",
        "outputId": "27488b14-4e0b-475e-c70f-e4f544b840a0"
      },
      "execution_count": 9,
      "outputs": [
        {
          "output_type": "execute_result",
          "data": {
            "text/plain": [
              "   Unnamed: 0      id                                 name  host_id host_name  \\\n",
              "0           0   50646      Pleasant Room along Bukit Timah   227796   Sujatha   \n",
              "1           1   71609  Ensuite Room (Room 1 & 2) near EXPO   367042   Belinda   \n",
              "2           2   71896      B&B  Room 1 near Airport & EXPO   367042   Belinda   \n",
              "3           3   71903           Room 2-near Airport & EXPO   367042   Belinda   \n",
              "4           4  275344    15 mins to Outram MRT Single Room  1439258       Kay   \n",
              "\n",
              "  neighbourhood  latitude  longitude     room_type  price  minimum_nights  \\\n",
              "0   Bukit Timah   1.33432  103.78521  Private room     80              92   \n",
              "1      Tampines   1.34537  103.95887  Private room    145              92   \n",
              "2      Tampines   1.34754  103.95958  Private room     85              92   \n",
              "3      Tampines   1.34531  103.96100  Private room     85              92   \n",
              "4   Bukit Merah   1.28836  103.81144  Private room     49              60   \n",
              "\n",
              "   availability_365  \n",
              "0               365  \n",
              "1               340  \n",
              "2               265  \n",
              "3               365  \n",
              "4               296  "
            ],
            "text/html": [
              "\n",
              "  <div id=\"df-d14bea3c-83ed-4b58-9bee-7fdc85ae7eee\">\n",
              "    <div class=\"colab-df-container\">\n",
              "      <div>\n",
              "<style scoped>\n",
              "    .dataframe tbody tr th:only-of-type {\n",
              "        vertical-align: middle;\n",
              "    }\n",
              "\n",
              "    .dataframe tbody tr th {\n",
              "        vertical-align: top;\n",
              "    }\n",
              "\n",
              "    .dataframe thead th {\n",
              "        text-align: right;\n",
              "    }\n",
              "</style>\n",
              "<table border=\"1\" class=\"dataframe\">\n",
              "  <thead>\n",
              "    <tr style=\"text-align: right;\">\n",
              "      <th></th>\n",
              "      <th>Unnamed: 0</th>\n",
              "      <th>id</th>\n",
              "      <th>name</th>\n",
              "      <th>host_id</th>\n",
              "      <th>host_name</th>\n",
              "      <th>neighbourhood</th>\n",
              "      <th>latitude</th>\n",
              "      <th>longitude</th>\n",
              "      <th>room_type</th>\n",
              "      <th>price</th>\n",
              "      <th>minimum_nights</th>\n",
              "      <th>availability_365</th>\n",
              "    </tr>\n",
              "  </thead>\n",
              "  <tbody>\n",
              "    <tr>\n",
              "      <th>0</th>\n",
              "      <td>0</td>\n",
              "      <td>50646</td>\n",
              "      <td>Pleasant Room along Bukit Timah</td>\n",
              "      <td>227796</td>\n",
              "      <td>Sujatha</td>\n",
              "      <td>Bukit Timah</td>\n",
              "      <td>1.33432</td>\n",
              "      <td>103.78521</td>\n",
              "      <td>Private room</td>\n",
              "      <td>80</td>\n",
              "      <td>92</td>\n",
              "      <td>365</td>\n",
              "    </tr>\n",
              "    <tr>\n",
              "      <th>1</th>\n",
              "      <td>1</td>\n",
              "      <td>71609</td>\n",
              "      <td>Ensuite Room (Room 1 &amp; 2) near EXPO</td>\n",
              "      <td>367042</td>\n",
              "      <td>Belinda</td>\n",
              "      <td>Tampines</td>\n",
              "      <td>1.34537</td>\n",
              "      <td>103.95887</td>\n",
              "      <td>Private room</td>\n",
              "      <td>145</td>\n",
              "      <td>92</td>\n",
              "      <td>340</td>\n",
              "    </tr>\n",
              "    <tr>\n",
              "      <th>2</th>\n",
              "      <td>2</td>\n",
              "      <td>71896</td>\n",
              "      <td>B&amp;B  Room 1 near Airport &amp; EXPO</td>\n",
              "      <td>367042</td>\n",
              "      <td>Belinda</td>\n",
              "      <td>Tampines</td>\n",
              "      <td>1.34754</td>\n",
              "      <td>103.95958</td>\n",
              "      <td>Private room</td>\n",
              "      <td>85</td>\n",
              "      <td>92</td>\n",
              "      <td>265</td>\n",
              "    </tr>\n",
              "    <tr>\n",
              "      <th>3</th>\n",
              "      <td>3</td>\n",
              "      <td>71903</td>\n",
              "      <td>Room 2-near Airport &amp; EXPO</td>\n",
              "      <td>367042</td>\n",
              "      <td>Belinda</td>\n",
              "      <td>Tampines</td>\n",
              "      <td>1.34531</td>\n",
              "      <td>103.96100</td>\n",
              "      <td>Private room</td>\n",
              "      <td>85</td>\n",
              "      <td>92</td>\n",
              "      <td>365</td>\n",
              "    </tr>\n",
              "    <tr>\n",
              "      <th>4</th>\n",
              "      <td>4</td>\n",
              "      <td>275344</td>\n",
              "      <td>15 mins to Outram MRT Single Room</td>\n",
              "      <td>1439258</td>\n",
              "      <td>Kay</td>\n",
              "      <td>Bukit Merah</td>\n",
              "      <td>1.28836</td>\n",
              "      <td>103.81144</td>\n",
              "      <td>Private room</td>\n",
              "      <td>49</td>\n",
              "      <td>60</td>\n",
              "      <td>296</td>\n",
              "    </tr>\n",
              "  </tbody>\n",
              "</table>\n",
              "</div>\n",
              "      <button class=\"colab-df-convert\" onclick=\"convertToInteractive('df-d14bea3c-83ed-4b58-9bee-7fdc85ae7eee')\"\n",
              "              title=\"Convert this dataframe to an interactive table.\"\n",
              "              style=\"display:none;\">\n",
              "        \n",
              "  <svg xmlns=\"http://www.w3.org/2000/svg\" height=\"24px\"viewBox=\"0 0 24 24\"\n",
              "       width=\"24px\">\n",
              "    <path d=\"M0 0h24v24H0V0z\" fill=\"none\"/>\n",
              "    <path d=\"M18.56 5.44l.94 2.06.94-2.06 2.06-.94-2.06-.94-.94-2.06-.94 2.06-2.06.94zm-11 1L8.5 8.5l.94-2.06 2.06-.94-2.06-.94L8.5 2.5l-.94 2.06-2.06.94zm10 10l.94 2.06.94-2.06 2.06-.94-2.06-.94-.94-2.06-.94 2.06-2.06.94z\"/><path d=\"M17.41 7.96l-1.37-1.37c-.4-.4-.92-.59-1.43-.59-.52 0-1.04.2-1.43.59L10.3 9.45l-7.72 7.72c-.78.78-.78 2.05 0 2.83L4 21.41c.39.39.9.59 1.41.59.51 0 1.02-.2 1.41-.59l7.78-7.78 2.81-2.81c.8-.78.8-2.07 0-2.86zM5.41 20L4 18.59l7.72-7.72 1.47 1.35L5.41 20z\"/>\n",
              "  </svg>\n",
              "      </button>\n",
              "      \n",
              "  <style>\n",
              "    .colab-df-container {\n",
              "      display:flex;\n",
              "      flex-wrap:wrap;\n",
              "      gap: 12px;\n",
              "    }\n",
              "\n",
              "    .colab-df-convert {\n",
              "      background-color: #E8F0FE;\n",
              "      border: none;\n",
              "      border-radius: 50%;\n",
              "      cursor: pointer;\n",
              "      display: none;\n",
              "      fill: #1967D2;\n",
              "      height: 32px;\n",
              "      padding: 0 0 0 0;\n",
              "      width: 32px;\n",
              "    }\n",
              "\n",
              "    .colab-df-convert:hover {\n",
              "      background-color: #E2EBFA;\n",
              "      box-shadow: 0px 1px 2px rgba(60, 64, 67, 0.3), 0px 1px 3px 1px rgba(60, 64, 67, 0.15);\n",
              "      fill: #174EA6;\n",
              "    }\n",
              "\n",
              "    [theme=dark] .colab-df-convert {\n",
              "      background-color: #3B4455;\n",
              "      fill: #D2E3FC;\n",
              "    }\n",
              "\n",
              "    [theme=dark] .colab-df-convert:hover {\n",
              "      background-color: #434B5C;\n",
              "      box-shadow: 0px 1px 3px 1px rgba(0, 0, 0, 0.15);\n",
              "      filter: drop-shadow(0px 1px 2px rgba(0, 0, 0, 0.3));\n",
              "      fill: #FFFFFF;\n",
              "    }\n",
              "  </style>\n",
              "\n",
              "      <script>\n",
              "        const buttonEl =\n",
              "          document.querySelector('#df-d14bea3c-83ed-4b58-9bee-7fdc85ae7eee button.colab-df-convert');\n",
              "        buttonEl.style.display =\n",
              "          google.colab.kernel.accessAllowed ? 'block' : 'none';\n",
              "\n",
              "        async function convertToInteractive(key) {\n",
              "          const element = document.querySelector('#df-d14bea3c-83ed-4b58-9bee-7fdc85ae7eee');\n",
              "          const dataTable =\n",
              "            await google.colab.kernel.invokeFunction('convertToInteractive',\n",
              "                                                     [key], {});\n",
              "          if (!dataTable) return;\n",
              "\n",
              "          const docLinkHtml = 'Like what you see? Visit the ' +\n",
              "            '<a target=\"_blank\" href=https://colab.research.google.com/notebooks/data_table.ipynb>data table notebook</a>'\n",
              "            + ' to learn more about interactive tables.';\n",
              "          element.innerHTML = '';\n",
              "          dataTable['output_type'] = 'display_data';\n",
              "          await google.colab.output.renderOutput(dataTable, element);\n",
              "          const docLink = document.createElement('div');\n",
              "          docLink.innerHTML = docLinkHtml;\n",
              "          element.appendChild(docLink);\n",
              "        }\n",
              "      </script>\n",
              "    </div>\n",
              "  </div>\n",
              "  "
            ]
          },
          "metadata": {},
          "execution_count": 9
        }
      ]
    },
    {
      "cell_type": "code",
      "source": [
        "price_data = datalist['price']\n",
        "\n",
        "# Create the box plot\n",
        "plt.boxplot(price_data)\n",
        "plt.ylabel('Price')\n",
        "plt.title('Distribution of Price')\n",
        "plt.show()"
      ],
      "metadata": {
        "id": "CF5F2HK6KcxI",
        "outputId": "07a6e8f0-9040-48e4-85b4-2a2685b810ec",
        "colab": {
          "base_uri": "https://localhost:8080/",
          "height": 452
        }
      },
      "execution_count": 14,
      "outputs": [
        {
          "output_type": "display_data",
          "data": {
            "text/plain": [
              "<Figure size 640x480 with 1 Axes>"
            ],
            "image/png": "[encoded data removed]"
          },
          "metadata": {}
        }
      ]
    },
    {
      "cell_type": "code",
      "source": [
        "# Data Analysis\n",
        "\n",
        "# Basic statistics\n",
        "num_listings = len(datalist)\n",
        "average_price = datalist['price'].mean()\n",
        "min_price = datalist['price'].min()\n",
        "max_price = datalist['price'].max()\n",
        "\n",
        "# Histogram of prices\n",
        "plt.hist(datalist['price'], bins=100, edgecolor='black')\n",
        "plt.xlabel('Price')\n",
        "plt.ylabel('Count')\n",
        "plt.title('Distribution of Airbnb Prices')\n",
        "plt.show()\n",
        "\n",
        "# Bar chart of room types\n",
        "room_type_counts = datalist['room_type'].value_counts()\n",
        "plt.bar(room_type_counts.index, room_type_counts.values)\n",
        "plt.xlabel('Room Type')\n",
        "plt.ylabel('Count')\n",
        "plt.title('Number of Listings by Room Type')\n",
        "plt.show()\n",
        "\n",
        "# Business Recommendations\n",
        "\n",
        "# Identify popular neighborhoods\n",
        "top_neighborhoods = datanieg['neighbourhood'].value_counts().head(5)\n",
        "\n",
        "# Calculate average prices by neighborhood\n",
        "#neighborhood_prices = datanieg.groupby('neighbourhood')['price'].mean()\n",
        "\n",
        "# Identify the most expensive neighborhood\n",
        "#most_expensive_neighborhood = neighborhood_prices.idxmax()\n",
        "\n",
        "# Print the analysis results\n",
        "print('Number of Listings:', num_listings)\n",
        "print('Average Price:', average_price)\n",
        "print('Minimum Price:', min_price)\n",
        "print('Maximum Price:', max_price)\n",
        "print('Top 5 Neighborhoods:\\n', top_neighborhoods)\n",
        "#print('Average Prices by Neighborhood:\\n', neighborhood_prices)\n",
        "#print('Most Expensive Neighborhood:', most_expensive_neighborhood)"
      ],
      "metadata": {
        "colab": {
          "base_uri": "https://localhost:8080/",
          "height": 1000
        },
        "id": "sa5Ti3p2WXVk",
        "outputId": "3996b9a0-8e89-46a8-9a81-416d0e86fd1c"
      },
      "execution_count": null,
      "outputs": [
        {
          "output_type": "display_data",
          "data": {
            "text/plain": [
              "<Figure size 640x480 with 1 Axes>"
            ],
            "image/png": "[encoded data removed]"
          },
          "metadata": {}
        },
        {
          "output_type": "display_data",
          "data": {
            "text/plain": [
              "<Figure size 640x480 with 1 Axes>"
            ],
            "image/png": "[encoded data removed]"
          },
          "metadata": {}
        },
        {
          "output_type": "stream",
          "name": "stdout",
          "text": [
            "Number of Listings: 4161\n",
            "Average Price: 214.50516702715694\n",
            "Minimum Price: 0\n",
            "Maximum Price: 12494\n",
            "Top 5 Neighborhoods:\n",
            " Bishan                   1\n",
            "Woodlands                1\n",
            "North-Eastern Islands    1\n",
            "Punggol                  1\n",
            "Seletar                  1\n",
            "Name: neighbourhood, dtype: int64\n"
          ]
        }
      ]
    },
    {
      "cell_type": "code",
      "source": [],
      "metadata": {
        "id": "wJeiiwFnaGM3"
      },
      "execution_count": null,
      "outputs": []
    }
  ]
}